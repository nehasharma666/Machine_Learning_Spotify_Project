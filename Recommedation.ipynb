{
 "cells": [
  {
   "cell_type": "markdown",
   "id": "e7c93195",
   "metadata": {},
   "source": [
    "# Recommedation model"
   ]
  },
  {
   "cell_type": "code",
   "execution_count": 1,
   "id": "b9eaa428",
   "metadata": {},
   "outputs": [
    {
     "name": "stderr",
     "output_type": "stream",
     "text": [
      "C:\\ProgramData\\Anaconda3\\lib\\site-packages\\fuzzywuzzy\\fuzz.py:11: UserWarning: Using slow pure-python SequenceMatcher. Install python-Levenshtein to remove this warning\n",
      "  warnings.warn('Using slow pure-python SequenceMatcher. Install python-Levenshtein to remove this warning')\n"
     ]
    }
   ],
   "source": [
    "# Load libraries\n",
    "import pandas as pd \n",
    "import numpy as np\n",
    "from matplotlib import pyplot as plt\n",
    "import seaborn as sns\n",
    "import spotipy \n",
    "from spotipy.oauth2 import SpotifyClientCredentials \n",
    "from scipy.stats import mannwhitneyu\n",
    "from sklearn.preprocessing import StandardScaler\n",
    "import os\n",
    "import time\n",
    "\n",
    "from scipy.sparse import csr_matrix\n",
    "from sklearn.neighbors import NearestNeighbors\n",
    "\n",
    "# utils import\n",
    "from fuzzywuzzy import fuzz\n",
    "\n",
    "# visualization imports\n",
    "import seaborn as sns\n",
    "import matplotlib.pyplot as plt\n",
    "plt.style.use('ggplot')\n",
    "\n",
    "%matplotlib inline"
   ]
  },
  {
   "cell_type": "code",
   "execution_count": 2,
   "id": "355c05b0",
   "metadata": {},
   "outputs": [],
   "source": [
    "client_credentials_manager = SpotifyClientCredentials(client_id=\"627a2a038c2c4bfda963e47db3b99a1a\", client_secret=\"c2c46473dadc486da9670277e1179bf0\")\n",
    "\n",
    "sp = spotipy.Spotify(client_credentials_manager = client_credentials_manager)\n",
    "\n",
    "sp.trace=False"
   ]
  },
  {
   "cell_type": "code",
   "execution_count": 3,
   "id": "78762453",
   "metadata": {},
   "outputs": [],
   "source": [
    "# for recommendation system we will consider only liked songs\n",
    "liked_songs = pd.read_csv(\"liked_songs.csv\")\n",
    "liked_songs_1 = pd.read_csv(\"C:/Users/nehas/OneDrive/Desktop/liked_songs.csv\")\n",
    "liked_songs_2 = pd.read_csv(\"C:/Users/nehas/OneDrive/Desktop/liked.csv\")"
   ]
  },
  {
   "cell_type": "code",
   "execution_count": 4,
   "id": "fe96d2c0",
   "metadata": {},
   "outputs": [
    {
     "data": {
      "text/plain": [
       "(6738, 18)"
      ]
     },
     "execution_count": 4,
     "metadata": {},
     "output_type": "execute_result"
    }
   ],
   "source": [
    "df = pd.concat([liked_songs,liked_songs_1,liked_songs_2], axis = 0).reset_index(drop=True)\n",
    "df.shape"
   ]
  },
  {
   "cell_type": "markdown",
   "id": "56e881b3",
   "metadata": {},
   "source": [
    "Again we are going to drop unwanted columns and duplicate values"
   ]
  },
  {
   "cell_type": "code",
   "execution_count": 5,
   "id": "a35882d1",
   "metadata": {},
   "outputs": [],
   "source": [
    "ids = df[['id']]"
   ]
  },
  {
   "cell_type": "code",
   "execution_count": 6,
   "id": "8d256776",
   "metadata": {},
   "outputs": [],
   "source": [
    "df.drop(columns=['uri', 'track_href', 'analysis_url','type','id'],inplace=True)"
   ]
  },
  {
   "cell_type": "code",
   "execution_count": 7,
   "id": "368a6f5b",
   "metadata": {},
   "outputs": [
    {
     "name": "stdout",
     "output_type": "stream",
     "text": [
      "(6738, 13)\n"
     ]
    }
   ],
   "source": [
    "# KNN with euclidean distance\n",
    "\n",
    "\n",
    "# Features have different ranges; re-scale them first\n",
    "# Initializing scaler\n",
    "scaler = StandardScaler()\n",
    "# Separating features from target ('like')\n",
    "# Standardizing features\n",
    "all_songs_df_std = pd.DataFrame(StandardScaler().fit_transform(df))\n",
    "all_songs_df_std.columns = df.columns\n",
    "print(all_songs_df_std.shape)\n",
    "all_songs_df_std.head()\n",
    "all_songs_df_std.index = ids['id']"
   ]
  },
  {
   "cell_type": "code",
   "execution_count": 8,
   "id": "06f07f45",
   "metadata": {},
   "outputs": [],
   "source": [
    "# Get artist and song name from song_id\n",
    "def get_playlist_songs(df):\n",
    "    idx_list = []\n",
    "    for song_id in df.index:\n",
    "        artist_name = [feat['name'] for feat in sp.track(song_id)['album']['artists']]\n",
    "        song_name = sp.track(song_id)['name']\n",
    "        name = ' '.join(map(str, artist_name))  + ':' + song_name       \n",
    "        idx_list.append(name)\n",
    "    return idx_list"
   ]
  },
  {
   "cell_type": "code",
   "execution_count": 37,
   "id": "8b4db128",
   "metadata": {},
   "outputs": [
    {
     "data": {
      "text/plain": [
       "'artist_songs_list = get_playlist_songs(all_songs_df_std)\\n'"
      ]
     },
     "execution_count": 37,
     "metadata": {},
     "output_type": "execute_result"
    }
   ],
   "source": [
    "\"\"\"artist_songs_list = get_playlist_songs(all_songs_df_std)\n",
    "\"\"\""
   ]
  },
  {
   "cell_type": "code",
   "execution_count": null,
   "id": "4b326139",
   "metadata": {},
   "outputs": [],
   "source": [
    "\"\"\"# Add to df index\n",
    "all_songs_df_std.index = artist_songs_list\n",
    "all_songs_df_std.head()\"\"\""
   ]
  },
  {
   "cell_type": "code",
   "execution_count": null,
   "id": "4992a9fd",
   "metadata": {},
   "outputs": [],
   "source": [
    "\"\"\"all_songs_df_std.to_csv(\"songs_artist.csv\")\"\"\""
   ]
  },
  {
   "cell_type": "code",
   "execution_count": 38,
   "id": "e9083496",
   "metadata": {},
   "outputs": [],
   "source": [
    "all_songs_df_std= pd.read_csv(\"songs_artist.csv\")"
   ]
  },
  {
   "cell_type": "code",
   "execution_count": 19,
   "id": "ab0f223d",
   "metadata": {},
   "outputs": [],
   "source": [
    "all_songs_df_std=all_songs_df_std.set_index('Unnamed: 0')"
   ]
  },
  {
   "cell_type": "code",
   "execution_count": null,
   "id": "7cffe840",
   "metadata": {},
   "outputs": [],
   "source": []
  },
  {
   "cell_type": "code",
   "execution_count": 26,
   "id": "32e32466",
   "metadata": {},
   "outputs": [],
   "source": [
    "song_to_idx = {song: i for i, song in enumerate(list(all_songs_df_std.index))}"
   ]
  },
  {
   "cell_type": "code",
   "execution_count": 27,
   "id": "9026d0cc",
   "metadata": {},
   "outputs": [
    {
     "name": "stdout",
     "output_type": "stream",
     "text": [
      "Sparse matrix:  (0, 0)\t-1.3476373798981045\n",
      "  (0, 1)\t1.4706690391302326\n",
      "  (0, 2)\t0.4768150007404325\n",
      "  (0, 3)\t1.048195543773315\n",
      "  (0, 4)\t-1.2376020878366538\n",
      "  (0, 5)\t0.3277632930161038\n",
      "  (0, 6)\t-1.0439411917488877\n",
      "  (0, 7)\t-0.1771843602592614\n",
      "  (0, 8)\t-0.3795536211640843\n",
      "  (0, 9)\t-1.0583626936661097\n",
      "  (0, 10)\t0.3067533997725489\n",
      "  (0, 11)\t-0.2216953802726657\n",
      "  (0, 12)\t0.1674318468086723\n",
      "  (0, 13)\t-1.3962564367553263\n",
      "  (0, 14)\t1.00242060368338\n",
      "  (0, 15)\t-1.0440647660576834\n",
      "  (1, 0)\t-0.55353531135696\n",
      "  (1, 1)\t1.707915541276215\n",
      "  (1, 2)\t-1.2080858488343171\n",
      "  (1, 3)\t1.4433700778954603\n",
      "  (1, 4)\t-1.2376020878366538\n",
      "  (1, 5)\t0.5611931835398571\n",
      "  (1, 6)\t-1.0222472295617524\n",
      "  (1, 7)\t-0.1925339165221156\n",
      "  (1, 8)\t0.1626370764932776\n",
      "  :\t:\n",
      "  (11993, 7)\t-0.1925339165221156\n",
      "  (11993, 8)\t-0.7503622017458436\n",
      "  (11993, 9)\t-0.5998689915400746\n",
      "  (11993, 10)\t1.0704701084088746\n",
      "  (11993, 11)\t-0.2108692831974027\n",
      "  (11993, 12)\t0.1674318468086723\n",
      "  (11993, 13)\t1.1999450760148087\n",
      "  (11993, 14)\t-0.997585241489964\n",
      "  (11993, 15)\t0.854210830475549\n",
      "  (11994, 0)\t0.6605876859993345\n",
      "  (11994, 1)\t0.3096755179903165\n",
      "  (11994, 2)\t0.7576318090028907\n",
      "  (11994, 3)\t0.28570304104911\n",
      "  (11994, 4)\t0.8080141507744338\n",
      "  (11994, 5)\t0.8946644557166472\n",
      "  (11994, 6)\t-1.0079487808165262\n",
      "  (11994, 7)\t-0.1925071059638431\n",
      "  (11994, 8)\t-0.5353555457782689\n",
      "  (11994, 9)\t-0.0540431556757473\n",
      "  (11994, 10)\t-1.0050498714002478\n",
      "  (11994, 11)\t0.166288885146924\n",
      "  (11994, 12)\t0.1674318468086723\n",
      "  (11994, 13)\t1.1999450760148087\n",
      "  (11994, 14)\t-0.997585241489964\n",
      "  (11994, 15)\t0.854210830475549\n"
     ]
    }
   ],
   "source": [
    "# transform matrix to scipy sparse matrix\n",
    "song_user_mat_sparse = csr_matrix(all_songs_df_std.values)\n",
    "\n",
    "print(f\"Sparse matrix:{song_user_mat_sparse}\")"
   ]
  },
  {
   "cell_type": "code",
   "execution_count": 40,
   "id": "a6e76d8a",
   "metadata": {},
   "outputs": [
    {
     "data": {
      "text/plain": [
       "NearestNeighbors(algorithm='brute', metric='cosine', n_jobs=-1, n_neighbors=10)"
      ]
     },
     "execution_count": 40,
     "metadata": {},
     "output_type": "execute_result"
    }
   ],
   "source": [
    "# define model\n",
    "model_knn = NearestNeighbors(metric='cosine', algorithm='brute', n_neighbors=10, n_jobs=-1)\n",
    "# fit\n",
    "model_knn.fit(song_user_mat_sparse)"
   ]
  },
  {
   "cell_type": "code",
   "execution_count": 41,
   "id": "36e1b290",
   "metadata": {},
   "outputs": [],
   "source": [
    "def fuzzy_matching(mapper, fav_song, verbose=True):\n",
    "    \"\"\"\n",
    "    return the closest match via fuzzy ratio. If no match found, return None\n",
    "    \n",
    "    Parameters\n",
    "    ----------    \n",
    "    mapper: dict, map song title name to index of the song in data\n",
    "\n",
    "    fav_song: str, name of user input song\n",
    "    \n",
    "    verbose: bool, print log if True\n",
    "\n",
    "    Return\n",
    "    ------\n",
    "    index of the closest match\n",
    "    \"\"\"\n",
    "    match_tuple = []\n",
    "    # get match\n",
    "    for title, idx in mapper.items():\n",
    "        ratio = fuzz.ratio(title.lower(), fav_song.lower())\n",
    "        if ratio >= 60:\n",
    "            match_tuple.append((title, idx, ratio))\n",
    "    # sort\n",
    "    match_tuple = sorted(match_tuple, key=lambda x: x[2])[::-1]\n",
    "    if not match_tuple:\n",
    "        print('Oops! No match is found')\n",
    "        return\n",
    "    if verbose:\n",
    "        print('Found possible matches in our database: {0}\\n'.format([x[0] for x in match_tuple]))\n",
    "    return match_tuple[0][1]\n",
    "\n",
    "\n",
    "\n",
    "def make_recommendation(model_knn, data, mapper, fav_song, n_recommendations):\n",
    "    \"\"\"\n",
    "    return top n similar song recommendations based on user's input song\n",
    "\n",
    "\n",
    "    Parameters\n",
    "    ----------\n",
    "    model_knn: sklearn model, knn model\n",
    "\n",
    "    data: song-user matrix\n",
    "\n",
    "    mapper: dict, map song title name to index of the song in data\n",
    "\n",
    "    fav_song: str, name of user input song\n",
    "\n",
    "    n_recommendations: int, top n recommendations\n",
    "\n",
    "    Return\n",
    "    ------\n",
    "    list of top n similar song recommendations\n",
    "    \"\"\"\n",
    "    # fit\n",
    "    model_knn.fit(data)\n",
    "    # get input movie index\n",
    "    print('You have input song:', fav_song)\n",
    "    idx = fuzzy_matching(mapper, fav_song, verbose=True)\n",
    "    # inference\n",
    "    print('Recommendation system start to make inference')\n",
    "    print('......\\n')\n",
    "    distances, indices = model_knn.kneighbors(data[idx], n_neighbors=n_recommendations+1)\n",
    "    # get list of raw idx of recommendations\n",
    "    raw_recommends = \\\n",
    "        sorted(list(zip(indices.squeeze().tolist(), distances.squeeze().tolist())), key=lambda x: x[1])[:0:-1]\n",
    "    # get reverse mapper\n",
    "    reverse_mapper = {v: k for k, v in mapper.items()}\n",
    "    # print recommendations\n",
    "    print('Recommendations for {}:'.format(fav_song))\n",
    "    for i, (idx, dist) in enumerate(raw_recommends):\n",
    "        print('{0}: {1}, with distance of {2}'.format(i+1, reverse_mapper[idx], dist))"
   ]
  },
  {
   "cell_type": "code",
   "execution_count": 46,
   "id": "35cc0bb9",
   "metadata": {},
   "outputs": [
    {
     "name": "stdout",
     "output_type": "stream",
     "text": [
      "You have input song: Imagine Dragons\n",
      "Found possible matches in our database: ['Imagine Dragons:Demons', 'Imagine Dragons:Natural', 'Imagine Dragons:Wrecked', 'Imagine Dragons:Thunder', 'Imagine Dragons:Bad Liar', 'Imagine Dragons:Believer', \"Imagine Dragons:It's Time\", 'Imagine Dragons:Follow You', 'Imagine Dragons:Radioactive', 'Imagine Dragons:Whatever It Takes']\n",
      "\n",
      "Recommendation system start to make inference\n",
      "......\n",
      "\n",
      "Recommendations for Imagine Dragons:\n",
      "1: The Beatles:The Night Before - Remastered, with distance of 0.1383057958348184\n",
      "2: Hanif Shaikh Vijay Lama:Bekarar, with distance of 0.13539280948938714\n",
      "3: AURORA:The River, with distance of 0.13088975713061168\n",
      "4: Ellie Goulding:Burn, with distance of 0.1280178036917885\n",
      "5: Various Artists:Meri Maa, with distance of 0.12607322857661585\n"
     ]
    }
   ],
   "source": [
    "my_favorite = 'Imagine Dragons'\n",
    "\n",
    "make_recommendation(\n",
    "    model_knn=model_knn,\n",
    "    data=song_user_mat_sparse,\n",
    "    fav_song=my_favorite,\n",
    "    mapper=song_to_idx,\n",
    "    n_recommendations=5)"
   ]
  },
  {
   "cell_type": "code",
   "execution_count": null,
   "id": "dc10c0b0",
   "metadata": {},
   "outputs": [],
   "source": []
  }
 ],
 "metadata": {
  "kernelspec": {
   "display_name": "Python 3",
   "language": "python",
   "name": "python3"
  },
  "language_info": {
   "codemirror_mode": {
    "name": "ipython",
    "version": 3
   },
   "file_extension": ".py",
   "mimetype": "text/x-python",
   "name": "python",
   "nbconvert_exporter": "python",
   "pygments_lexer": "ipython3",
   "version": "3.8.8"
  }
 },
 "nbformat": 4,
 "nbformat_minor": 5
}
